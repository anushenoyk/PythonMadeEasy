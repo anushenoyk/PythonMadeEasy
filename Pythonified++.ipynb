{
 "cells": [
  {
   "cell_type": "code",
   "execution_count": 5,
   "metadata": {},
   "outputs": [],
   "source": [
    "#level3"
   ]
  },
  {
   "cell_type": "code",
   "execution_count": null,
   "metadata": {},
   "outputs": [],
   "source": [
    "#1"
   ]
  },
  {
   "cell_type": "code",
   "execution_count": null,
   "metadata": {},
   "outputs": [],
   "source": [
    "#A website requires the users to input username and password to register. Write a program to check the validity of password inputby users.\n",
    "#Following are the criteria for checking the password:\n",
    "#1. At least 1 letter between [a-z]\n",
    "#2. At least 1 number between [0-9]\n",
    "#3. At least 1 letter between [A-Z]\n",
    "#4. At least 1 character from [$#@]\n",
    "#5. Minimum length of transaction password: 6\n",
    "#6. Maximum length of transaction password: 12\n",
    "#Your program should accept a sequence of comma separated passwords and will check them according to the above criteria.\n",
    "#Passwords that match the criteria are to be printed, eachseparated by a comma.\n",
    "#Example\n",
    "#If the following passwords are given as input to the program:\n",
    "#ABd1234@1,a F1#,2w3E*,2We3345\n",
    "#Then, the output of the program should be:\n",
    "#ABd1234@1\n",
    "#Hints:\n",
    "#In case of input data being supplied to the question, it shouldbe assumed to be a console input.\n",
    "#Solutions:\n",
    "import re\n",
    "value = []\n",
    "items=[x for x in input().split(',')]\n",
    "for p in items:\n",
    "    if len(p)<6 or len(p)>12:\n",
    "        continue\n",
    "    else:\n",
    "        pass\n",
    "    if not re.search(\"[a-z]\",p):\n",
    "        continue\n",
    "    elif not re.search(\"[0-9]\",p):\n",
    "        continue\n",
    "    elif not re.search(\"[A-Z]\",p):\n",
    "        continue\n",
    "    elif not re.search(\"[$#@]\",p):\n",
    "        continue\n",
    "    elif re.search(\"\\s\",p):\n",
    "        continue\n",
    "    else:\n",
    "        pass\n",
    "    value.append(p)\n",
    "print(\",\".join(value))"
   ]
  },
  {
   "cell_type": "code",
   "execution_count": null,
   "metadata": {},
   "outputs": [],
   "source": [
    "#2"
   ]
  },
  {
   "cell_type": "code",
   "execution_count": null,
   "metadata": {},
   "outputs": [],
   "source": [
    "#You are required to write a program to sort the (name, age,height) tuples by ascending order where name is string, age and\n",
    "#height are numbers. The tuples are input by console. The sort\n",
    "#criteria is:\n",
    "#1: Sort based on name;\n",
    "#2: Then sort based on age;\n",
    "#3: Then sort by score.\n",
    "#The priority is that name > age > score.\n",
    "#If the following tuples are given as input to the program:\n",
    "#Tom,19,80\n",
    "#John,20,90\n",
    "#Jony,17,91\n",
    "#Jony,17,93\n",
    "#Json,21,85\n",
    "#Then, the output of the program should be:\n",
    "#[('John', '20', '90'), ('Jony', '17', '91'), ('Jony', '17',\n",
    "#'93'), ('Json', '21', '85'), ('Tom', '19', '80')]\n",
    "#Hints:\n",
    "#In case of input data being supplied to the question, it should be assumed to be a console input.\n",
    "#We use itemgetter to enable multiple sort keys.\n",
    "#Solutions:\n",
    "from operator import itemgetter, attrgetter\n",
    "l = []\n",
    "while True:\n",
    "    s = input()\n",
    "    if not s:\n",
    "        break\n",
    "    l.append(tuple(s.split(\",\")))\n",
    "print(sorted(l, key=itemgetter(0,1,2)))"
   ]
  },
  {
   "cell_type": "code",
   "execution_count": null,
   "metadata": {},
   "outputs": [],
   "source": [
    "#3"
   ]
  },
  {
   "cell_type": "code",
   "execution_count": null,
   "metadata": {},
   "outputs": [],
   "source": [
    "#Define a class with a generator which can iterate the numbers, which are divisible by 7, between a given range 0 and n.\n",
    "#Hints:\n",
    "#Consider use yield\n",
    "#Solution:\n",
    "def putNumbers(n):\n",
    "     i = 0\n",
    "    while i<n:\n",
    "        j=i\n",
    "        i=i+1\n",
    "    if j%7==0:\n",
    "        yield j\n",
    "for i in reverse(100):\n",
    "    print(i)\n"
   ]
  },
  {
   "cell_type": "code",
   "execution_count": null,
   "metadata": {},
   "outputs": [],
   "source": [
    "#4"
   ]
  },
  {
   "cell_type": "code",
   "execution_count": null,
   "metadata": {},
   "outputs": [],
   "source": [
    "#A robot moves in a plane starting from the original point (0,0).The robot can move toward UP, DOWN, LEFT and RIGHT with a given\n",
    "#steps. The trace of robot movement is shown as the following:\n",
    "#UP 5\n",
    "#DOWN 3\n",
    "#LEFT 3\n",
    "#RIGHT 2\n",
    "#¡\n",
    "#The numbers after the direction are steps. Please write a program to compute the distance from current position after a sequence of\n",
    "#movement and original point. If the distance is a float, then\n",
    "#just print the nearest integer.\n",
    "#Example:\n",
    "#If the following tuples are given as input to the program:\n",
    "#UP 5\n",
    "#DOWN 3\n",
    "#LEFT 3\n",
    "#RIGHT 2\n",
    "#Then, the output of the program should be:\n",
    "#2\n",
    "#Hints:\n",
    "#In case of input data being supplied to the question, it should\n",
    "#be assumed to be a console input.\n",
    "#Solution:\n",
    "import math\n",
    "pos = [0,0]\n",
    "while True:\n",
    "    s =input()\n",
    "if not s:\n",
    "    break\n",
    "    movement = s.split(\" \")\n",
    "    direction = movement[0]\n",
    "    steps = int(movement[1])\n",
    "    if direction==\"UP\":\n",
    "        pos[0]+=steps\n",
    "    elif direction==\"DOWN\":\n",
    "        pos[0]-=steps\n",
    "    elif direction==\"LEFT\":\n",
    "        pos[1]-=steps\n",
    "    elif direction==\"RIGHT\":\n",
    "        pos[1]+=steps\n",
    "    else:\n",
    "        pass\n",
    "prin(int(round(math.sqrt(pos[1]**2+pos[0]**2))))"
   ]
  },
  {
   "cell_type": "code",
   "execution_count": null,
   "metadata": {},
   "outputs": [],
   "source": [
    "#5"
   ]
  },
  {
   "cell_type": "code",
   "execution_count": null,
   "metadata": {},
   "outputs": [],
   "source": [
    "#Write a program to compute the frequency of the words from theinput. The output should output after sorting the key alphanumerically.\n",
    "#Suppose the following input is supplied to the program:\n",
    "#New to Python or choosing between Python 2 and Python 3? Read\n",
    "#Python 2 or Python 3.\n",
    "#Then, the output should be:\n",
    "#2:2\n",
    "#3.:1\n",
    "#3?:1\n",
    "#New:1\n",
    "#Python:5\n",
    "#Read:1\n",
    "#and:1\n",
    "#between:1\n",
    "#choosing:1\n",
    "#or:2\n",
    "#to:1\n",
    "#Hints\n",
    "#In case of input data being supplied to the question, it should\n",
    "#be assumed to be a console input.\n",
    "#Solution:\n",
    "freq = {} # frequency of words in text\n",
    "line = raw_input()\n",
    "for word in line.split():\n",
    "    freq[word] = freq.get(word,0)+1\n",
    "words = freq.keys()\n",
    "words.sort()\n",
    "for w in words:\n",
    "    print(\"%s:%d\" % (w,freq[w]))\n"
   ]
  },
  {
   "cell_type": "code",
   "execution_count": null,
   "metadata": {},
   "outputs": [],
   "source": [
    "#6"
   ]
  },
  {
   "cell_type": "code",
   "execution_count": null,
   "metadata": {},
   "outputs": [],
   "source": [
    "#Write a program which can filter even numbers in a list by using filter function. The list is: [1,2,3,4,5,6,7,8,9,10].\n",
    "#Hints:\n",
    "#Use filter() to filter some elements in a list.\n",
    "#Use lambda to define anonymous functions.\n",
    "#Solution\n",
    "li = [1,2,3,4,5,6,7,8,9,10]\n",
    "evenNumbers = filter(lambda x: x%2==0, li)\n",
    "print(evenNumbers)"
   ]
  },
  {
   "cell_type": "code",
   "execution_count": null,
   "metadata": {},
   "outputs": [],
   "source": [
    "#7"
   ]
  },
  {
   "cell_type": "code",
   "execution_count": null,
   "metadata": {},
   "outputs": [],
   "source": [
    "#Write a program which accepts a sequence of words separated by whitespace as input to print the words composed of digits only.\n",
    "#Example:\n",
    "#If the following words is given as input to the program:\n",
    "#2 cats and 3 dogs.\n",
    "#Then, the output of the program should be:\n",
    "#['2', '3']\n",
    "#In case of input data being supplied to the question, it should be assumed to be a console input.\n",
    "#Hints:\n",
    "#Use re.findall() to find all substring using regex.\n",
    "#Solution:\n",
    "import re\n",
    "s = input()\n",
    "print(re.findall(\"\\d+\",s))"
   ]
  },
  {
   "cell_type": "code",
   "execution_count": null,
   "metadata": {},
   "outputs": [],
   "source": [
    "#8"
   ]
  },
  {
   "cell_type": "code",
   "execution_count": null,
   "metadata": {},
   "outputs": [],
   "source": [
    "#Write a program to read an ASCII string and to convert it to a unicode string encoded by utf-8.\n",
    "#Hints:\n",
    "#Use unicode() function to convert.\n",
    "#Solution:\n",
    "s = input()\n",
    "u = unicode( s ,\"utf-8\")\n",
    "print(u)"
   ]
  },
  {
   "cell_type": "code",
   "execution_count": null,
   "metadata": {},
   "outputs": [],
   "source": [
    "#9"
   ]
  },
  {
   "cell_type": "code",
   "execution_count": null,
   "metadata": {},
   "outputs": [],
   "source": [
    "#Write a program to compress and decompress the string \"hello world!hello world!hello world!hello world!\".\n",
    "#Hints:\n",
    "#Use zlib.compress() and zlib.decompress() to compress and decompress a string.\n",
    "#Solution:\n",
    "import zlib\n",
    "s = 'hello world!hello world!hello world!hello world!'\n",
    "t = zlib.compress(s)\n",
    "print (t)\n",
    "print (zlib.decompress(t))\n"
   ]
  },
  {
   "cell_type": "code",
   "execution_count": null,
   "metadata": {},
   "outputs": [],
   "source": [
    "#10"
   ]
  },
  {
   "cell_type": "code",
   "execution_count": null,
   "metadata": {},
   "outputs": [],
   "source": [
    "#Write a program to print the running time of execution of \"1+1\" for 100 times.\n",
    "#Hints:\n",
    "#Use timeit() function to measure the running time.\n",
    "#Solution:\n",
    "from timeit import Timer\n",
    "t = Timer(\"for i in range(100):1+1\")\n",
    "print(t.timeit())"
   ]
  },
  {
   "cell_type": "code",
   "execution_count": null,
   "metadata": {},
   "outputs": [],
   "source": [
    "#11"
   ]
  },
  {
   "cell_type": "code",
   "execution_count": null,
   "metadata": {},
   "outputs": [],
   "source": [
    "#Write a program to generate all sentences where subject is in [\"I\", \"You\"] and verb is in [\"Play\", \"Love\"] and the object is\n",
    "#in [\"Hockey\",\"Football\"].\n",
    "#Hints:\n",
    "#Use list[index] notation to get a element from a list.\n",
    "#Solution:\n",
    "subjects=[\"I\", \"You\"]\n",
    "verbs=[\"Play\", \"Love\"]\n",
    "objects=[\"Hockey\",\"Football\"]\n",
    "for i in range(len(subjects)):\n",
    "    for j in range(len(verbs)):\n",
    "        for k in range(len(objects)):\n",
    "            sentence = \"%s %s %s.\" % (subjects[i], verbs[j],objects[k])\n",
    "print(sentencess)"
   ]
  },
  {
   "cell_type": "code",
   "execution_count": null,
   "metadata": {},
   "outputs": [],
   "source": [
    "#12"
   ]
  },
  {
   "cell_type": "code",
   "execution_count": null,
   "metadata": {},
   "outputs": [],
   "source": [
    "#Write a program to solve a classic ancient Chinese puzzle: We count 35 heads and 94 legs among the chickens and rabbits in a\n",
    "#farm. How many rabbits and how many chickens do we have?\n",
    "#Hint:\n",
    "#Use for loop to iterate all possible solutions.\n",
    "#Solution:\n",
    "def solve(numheads,numlegs):\n",
    "    ns='No solutions!'\n",
    "    for i in range(numheads+1):\n",
    "        j=numheads-i\n",
    "    if 2*i+4*j==numlegs:\n",
    "        return i,j\n",
    "        return ns,ns\n",
    "numheads=35\n",
    "numlegs=94\n",
    "solutions=solve(numheads,numlegs)\n",
    "print(solutions)"
   ]
  }
 ],
 "metadata": {
  "kernelspec": {
   "display_name": "Python 3",
   "language": "python",
   "name": "python3"
  },
  "language_info": {
   "codemirror_mode": {
    "name": "ipython",
    "version": 3
   },
   "file_extension": ".py",
   "mimetype": "text/x-python",
   "name": "python",
   "nbconvert_exporter": "python",
   "pygments_lexer": "ipython3",
   "version": "3.7.4"
  }
 },
 "nbformat": 4,
 "nbformat_minor": 2
}
