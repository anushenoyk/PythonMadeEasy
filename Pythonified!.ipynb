{
 "cells": [
  {
   "cell_type": "code",
   "execution_count": 1,
   "metadata": {},
   "outputs": [],
   "source": [
    "#Hey there!\n",
    "#Python is simple & cool, you can checkout these py codes which are divided in three levels based on difficulty!\n",
    "#Happy Pythoning :)"
   ]
  },
  {
   "cell_type": "code",
   "execution_count": 2,
   "metadata": {},
   "outputs": [],
   "source": [
    "#LEVEL1(Beginner)"
   ]
  },
  {
   "cell_type": "code",
   "execution_count": 10,
   "metadata": {},
   "outputs": [
    {
     "name": "stdout",
     "output_type": "stream",
     "text": [
      "2002,2009,2016,2023,2037,2044,2051,2058,2072,2079,2086,2093,2107,2114,2121,2128,2142,2149,2156,2163,2177,2184,2191,2198,2212,2219,2226,2233,2247,2254,2261,2268,2282,2289,2296,2303,2317,2324,2331,2338,2352,2359,2366,2373,2387,2394,2401,2408,2422,2429,2436,2443,2457,2464,2471,2478,2492,2499,2506,2513,2527,2534,2541,2548,2562,2569,2576,2583,2597,2604,2611,2618,2632,2639,2646,2653,2667,2674,2681,2688,2702,2709,2716,2723,2737,2744,2751,2758,2772,2779,2786,2793,2807,2814,2821,2828,2842,2849,2856,2863,2877,2884,2891,2898,2912,2919,2926,2933,2947,2954,2961,2968,2982,2989,2996,3003,3017,3024,3031,3038,3052,3059,3066,3073,3087,3094,3101,3108,3122,3129,3136,3143,3157,3164,3171,3178,3192,3199\n"
     ]
    }
   ],
   "source": [
    "#1\n",
    "#Write a program which will find all such numbers which are\n",
    "#divisible by 7 but are not a multiple of 5,\n",
    "#between 2000 and 3200 (both included).\n",
    "#The numbers obtained should be printed in a comma-separated\n",
    "#sequence on a single line.\n",
    "#Hints:\n",
    "#Consider use range(#begin, #end) method\n",
    "#Solution:\n",
    "l=[]\n",
    "for i in range(2000, 3201):\n",
    "    if (i%7==0) and (i%5!=0):\n",
    "         l.append(str(i))\n",
    "print(','.join(l))"
   ]
  },
  {
   "cell_type": "code",
   "execution_count": null,
   "metadata": {},
   "outputs": [],
   "source": [
    "#2"
   ]
  },
  {
   "cell_type": "code",
   "execution_count": 22,
   "metadata": {},
   "outputs": [
    {
     "name": "stdout",
     "output_type": "stream",
     "text": [
      "5\n",
      "120\n"
     ]
    }
   ],
   "source": [
    "#Write a program which can compute the factorial of a given\n",
    "#numbers.\n",
    "#The results should be printed in a comma-separated sequence on a\n",
    "#single line.\n",
    "#Suppose the following input is supplied to the program:\n",
    "#8\n",
    "#Then, the output should be:\n",
    "#40320\n",
    "#Hints:\n",
    "#In case of input data being supplied to the question, it should\n",
    "#be assumed to be a console input.\n",
    "#Solution:\n",
    "def fact(x):\n",
    "    if x == 0:\n",
    "        return 1\n",
    "    return x * fact(x - 1)\n",
    "x=int(input())\n",
    "print(fact(x))"
   ]
  },
  {
   "cell_type": "code",
   "execution_count": 23,
   "metadata": {},
   "outputs": [],
   "source": [
    "#3"
   ]
  },
  {
   "cell_type": "code",
   "execution_count": 26,
   "metadata": {},
   "outputs": [
    {
     "name": "stdout",
     "output_type": "stream",
     "text": [
      "8\n",
      "{1: 1, 2: 4, 3: 9, 4: 16, 5: 25, 6: 36, 7: 49, 8: 64}\n"
     ]
    }
   ],
   "source": [
    "#With a given integral number n, write a program to generate a\n",
    "#dictionary that contains (i, i*i) such that is an integral number\n",
    "#between 1 and n (both included). and then the program should\n",
    "#print the dictionary.\n",
    "#Suppose the following input is supplied to the program:\n",
    "#8\n",
    "#Then, the output should be:\n",
    "#{1: 1, 2: 4, 3: 9, 4: 16, 5: 25, 6: 36, 7: 49, 8: 64}\n",
    "#Hints:\n",
    "#In case of input data being supplied to the question, it should\n",
    "#be assumed to be a console input.\n",
    "#Consider use dict()\n",
    "#Solution:\n",
    "n=int(input())\n",
    "d=dict()\n",
    "for i in range(1,n+1):\n",
    " d[i]=i*i\n",
    "print(d)\n"
   ]
  },
  {
   "cell_type": "code",
   "execution_count": 27,
   "metadata": {},
   "outputs": [],
   "source": [
    "#4"
   ]
  },
  {
   "cell_type": "code",
   "execution_count": 28,
   "metadata": {},
   "outputs": [
    {
     "name": "stdout",
     "output_type": "stream",
     "text": [
      "312 32 43 12 4 21\n",
      "['312 32 43 12 4 21']\n",
      "('312 32 43 12 4 21',)\n"
     ]
    }
   ],
   "source": [
    "#Write a program which accepts a sequence of comma-separated\n",
    "#numbers from console and generate a list and a tuple which\n",
    "#contains every number.\n",
    "#Suppose the following input is supplied to the program:\n",
    "#34,67,55,33,12,98\n",
    "#Then, the output should be:\n",
    "#['34', '67', '55', '33', '12', '98']\n",
    "#('34', '67', '55', '33', '12', '98')\n",
    "#Hints:\n",
    "#In case of input data being supplied to the question, it should\n",
    "#be assumed to be a console input.\n",
    "#tuple() method can convert list to tuple\n",
    "#Solution:\n",
    "values=input()\n",
    "l=values.split(\",\")\n",
    "t=tuple(l)\n",
    "print(l)\n",
    "print(t)"
   ]
  },
  {
   "cell_type": "code",
   "execution_count": 29,
   "metadata": {},
   "outputs": [],
   "source": [
    "#5"
   ]
  },
  {
   "cell_type": "code",
   "execution_count": 31,
   "metadata": {},
   "outputs": [
    {
     "name": "stdout",
     "output_type": "stream",
     "text": [
      "pyhi\n",
      "PYHI\n"
     ]
    }
   ],
   "source": [
    "#Define a class which has at least two methods:getString: to get a string from console inputprintString: to print the string in upper case.Also please include simple test function to test the class\n",
    "#methods.\n",
    "#Hints:\n",
    "#Use __init__ method to construct some parameters\n",
    "#Solution:\n",
    "class InputOutString(object):\n",
    "    def __init__(self):\n",
    "        self.s = \"\"\n",
    "    def getString(self):\n",
    "        self.s = input()\n",
    "    def printString(self):\n",
    "        print(self.s.upper())\n",
    "strObj = InputOutString()\n",
    "strObj.getString()\n",
    "strObj.printString()\n"
   ]
  },
  {
   "cell_type": "code",
   "execution_count": 32,
   "metadata": {},
   "outputs": [],
   "source": [
    "#6"
   ]
  },
  {
   "cell_type": "code",
   "execution_count": 34,
   "metadata": {},
   "outputs": [
    {
     "name": "stdout",
     "output_type": "stream",
     "text": [
      "4\n",
      "9\n"
     ]
    }
   ],
   "source": [
    "#Write a method which can calculate square value of number\n",
    "#Hints:\n",
    " #Using the ** operator\n",
    "#Solution:\n",
    "def square(num):\n",
    "    return num ** 2\n",
    "print(square(2))\n",
    "print(square(3))"
   ]
  },
  {
   "cell_type": "code",
   "execution_count": 35,
   "metadata": {},
   "outputs": [],
   "source": [
    "#7"
   ]
  },
  {
   "cell_type": "code",
   "execution_count": 43,
   "metadata": {},
   "outputs": [
    {
     "name": "stdout",
     "output_type": "stream",
     "text": [
      "3\n"
     ]
    }
   ],
   "source": [
    "#Define a function with two numbers as arguments. You can compute the sum in the function and return the value.\n",
    "#Solution\n",
    "def SumFunction(number1, number2):\n",
    "    return number1+number2\n",
    "print(SumFunction(1,2))"
   ]
  },
  {
   "cell_type": "code",
   "execution_count": 44,
   "metadata": {},
   "outputs": [],
   "source": [
    "#8"
   ]
  },
  {
   "cell_type": "code",
   "execution_count": 46,
   "metadata": {},
   "outputs": [
    {
     "name": "stdout",
     "output_type": "stream",
     "text": [
      "3\n"
     ]
    }
   ],
   "source": [
    "#Define a function that can convert a integer into a string and print it in console.\n",
    "#Hints:\n",
    "#Use str() to convert a number to string.\n",
    "#Solution\n",
    "def printValue(n):\n",
    "    print(str(n))\n",
    "printValue(3)"
   ]
  },
  {
   "cell_type": "code",
   "execution_count": 47,
   "metadata": {},
   "outputs": [],
   "source": [
    "#9"
   ]
  },
  {
   "cell_type": "code",
   "execution_count": 48,
   "metadata": {},
   "outputs": [
    {
     "name": "stdout",
     "output_type": "stream",
     "text": [
      "7\n"
     ]
    }
   ],
   "source": [
    "#Define a function that can receive two integral numbers in string form and compute their sum and then print it in console.\n",
    "#Hints:\n",
    "#Use int() to convert a string to integer.\n",
    "#Solution\n",
    "def printValue(s1,s2):\n",
    "    print(int(s1)+int(s2))\n",
    "printValue(\"3\",\"4\") #7"
   ]
  },
  {
   "cell_type": "code",
   "execution_count": 49,
   "metadata": {},
   "outputs": [],
   "source": [
    "#10"
   ]
  },
  {
   "cell_type": "code",
   "execution_count": 52,
   "metadata": {},
   "outputs": [
    {
     "name": "stdout",
     "output_type": "stream",
     "text": [
      "34\n"
     ]
    }
   ],
   "source": [
    "#Define a function that can accept two strings as input and concatenate them and then print it in console.\n",
    "#Hints:\n",
    "#Use + to concatenate the strings\n",
    "#Solution\n",
    "def printValue(s1,s2):\n",
    "    print(s1+s2)\n",
    "printValue(\"3\",\"4\") #34"
   ]
  },
  {
   "cell_type": "code",
   "execution_count": 53,
   "metadata": {},
   "outputs": [],
   "source": [
    "#11"
   ]
  },
  {
   "cell_type": "code",
   "execution_count": 57,
   "metadata": {},
   "outputs": [
    {
     "name": "stdout",
     "output_type": "stream",
     "text": [
      "three\n",
      "three\n"
     ]
    }
   ],
   "source": [
    "#Define a function that can accept two strings as input and print the string with maximum length in console. If two strings havethe same length, then the function should print al l strings line\n",
    "#by line.\n",
    "#Hints:\n",
    "#Use len() function to get the length of a string\n",
    "#Solution\n",
    "def printValue(s1,s2):\n",
    "    len1 = len(s1)\n",
    "    len2 = len(s2)\n",
    "    if len1>len2:\n",
    "        print(s1)\n",
    "    elif len2>len1:\n",
    "        print(s2)\n",
    "    else:\n",
    "        print (s1)\n",
    "    print(s2)\n",
    "printValue(\"one\",\"three\")\n"
   ]
  },
  {
   "cell_type": "code",
   "execution_count": 58,
   "metadata": {},
   "outputs": [],
   "source": [
    "#12"
   ]
  },
  {
   "cell_type": "code",
   "execution_count": 60,
   "metadata": {},
   "outputs": [
    {
     "name": "stdout",
     "output_type": "stream",
     "text": [
      "It is an odd number\n"
     ]
    }
   ],
   "source": [
    "#Define a function that can accept an integer number as input and print the \"It is an even number\" if the number is even, otherwiseprint \"It is an odd number\".\n",
    "#Hints:\n",
    "#Use % operator to check if a number is even or odd.\n",
    "#Solution\n",
    "def checkValue(n):\n",
    "    if n%2 == 0:\n",
    "        print(\"It is an even number\")\n",
    "    else:\n",
    "        print(\"It is an odd number\")\n",
    "checkValue(7)\n"
   ]
  }
 ],
 "metadata": {
  "kernelspec": {
   "display_name": "Python 3",
   "language": "python",
   "name": "python3"
  },
  "language_info": {
   "codemirror_mode": {
    "name": "ipython",
    "version": 3
   },
   "file_extension": ".py",
   "mimetype": "text/x-python",
   "name": "python",
   "nbconvert_exporter": "python",
   "pygments_lexer": "ipython3",
   "version": "3.7.4"
  }
 },
 "nbformat": 4,
 "nbformat_minor": 2
}
